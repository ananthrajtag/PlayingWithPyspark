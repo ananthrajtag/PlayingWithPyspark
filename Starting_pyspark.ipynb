{
 "cells": [
  {
   "cell_type": "markdown",
   "metadata": {},
   "source": [
    "# Playing with Pyspark\n",
    "Bryant Crocker"
   ]
  },
  {
   "cell_type": "markdown",
   "metadata": {},
   "source": [
    "I'm going to do a series of posts as I explore pyspark and learn how to use it effectivley.  Spark is an open sournce cluster computing package maintained by the Apache Software Foundation.  It is used by many data scientists to deal with data that is too big to work with in local memory.  Spark provides it own ecosystem to data managment, warngling and machine learning.  It has APIs in java, scala, python and R.  It also has a very useful sql interface that can be used across languages.  This is one of my favorite features because I personally like SQL. "
   ]
  },
  {
   "cell_type": "markdown",
   "metadata": {},
   "source": [
    "In this first code snippet: \n",
    "\n",
    ">1) import necessary pacakges including spark SQL , sometimes called sparkql (pronounced sparkle).\n",
    ">\n",
    ">2) create a local spark session.  I give the app a name Pysparkexample.\n"
   ]
  },
  {
   "cell_type": "code",
   "execution_count": 19,
   "metadata": {},
   "outputs": [
    {
     "name": "stdout",
     "output_type": "stream",
     "text": [
      "The column Names are:\n",
      "Quarter Ending\n",
      "Department\n",
      "UnitNo\n",
      "Vendor Number\n",
      "Vendor\n",
      "City\n",
      "State\n",
      "DeptID Description\n",
      "DeptID\n",
      "Amount\n",
      "Account\n",
      "AcctNo\n",
      "Fund Description\n",
      "Fund\n"
     ]
    }
   ],
   "source": [
    "# import necessary libraries\n",
    "import pandas as pd \n",
    "import numpy\n",
    "import matplotlib.pyplot as plt \n",
    "from pyspark.sql import SparkSession\n",
    "\n",
    "# create sparksession\n",
    "spark = SparkSession \\\n",
    "    .builder \\\n",
    "    .appName(\"Pysparkexample\") \\\n",
    "    .config(\"spark.some.config.option\", \"some-value\") \\\n",
    "    .getOrCreate()"
   ]
  },
  {
   "cell_type": "markdown",
   "metadata": {},
   "source": [
    "### Reading in a CSV"
   ]
  },
  {
   "cell_type": "markdown",
   "metadata": {},
   "source": [
    "Let's compare the speed of pandas vs spark at getting reading a somewhat large csv file. As we can see spark is much faster. Spark is able to read the csv almost instantly."
   ]
  },
  {
   "cell_type": "code",
   "execution_count": 28,
   "metadata": {},
   "outputs": [
    {
     "name": "stdout",
     "output_type": "stream",
     "text": [
      "167 ms ± 6.34 ms per loop (mean ± std. dev. of 7 runs, 10 loops each)\n"
     ]
    }
   ],
   "source": [
    "%%timeit\n",
    "df = spark.read.csv('Vermont_Vendor_Payments (1).csv', header='true')"
   ]
  },
  {
   "cell_type": "code",
   "execution_count": 29,
   "metadata": {},
   "outputs": [
    {
     "name": "stdout",
     "output_type": "stream",
     "text": [
      "4.53 s ± 109 ms per loop (mean ± std. dev. of 7 runs, 1 loop each)\n"
     ]
    }
   ],
   "source": [
    "%%timeit\n",
    "df_pandas = pd.read_csv('Vermont_Vendor_Payments (1).csv', low_memory = False)"
   ]
  },
  {
   "cell_type": "markdown",
   "metadata": {},
   "source": [
    "### Basic Spark Methods"
   ]
  },
  {
   "cell_type": "markdown",
   "metadata": {},
   "source": [
    "We can use the .columns method just like with pandas.  I loop over the column names and print them simply because I prefer the way this renders in teh notebook as opposed to passing the list to print."
   ]
  },
  {
   "cell_type": "code",
   "execution_count": 30,
   "metadata": {},
   "outputs": [
    {
     "name": "stdout",
     "output_type": "stream",
     "text": [
      "The column Names are:\n",
      "Quarter Ending\n",
      "Department\n",
      "UnitNo\n",
      "Vendor Number\n",
      "Vendor\n",
      "City\n",
      "State\n",
      "DeptID Description\n",
      "DeptID\n",
      "Amount\n",
      "Account\n",
      "AcctNo\n",
      "Fund Description\n",
      "Fund\n"
     ]
    }
   ],
   "source": [
    "#we can use the columns attribute just like with pandas\n",
    "columns = df.columns\n",
    "print('The column Names are:')\n",
    "for i in columns:\n",
    "    print(i)"
   ]
  },
  {
   "cell_type": "markdown",
   "metadata": {},
   "source": [
    "The count method can be used to get the count of total rows, and the length of the columns list can be taken to get the number of columns.  "
   ]
  },
  {
   "cell_type": "code",
   "execution_count": 37,
   "metadata": {},
   "outputs": [
    {
     "name": "stdout",
     "output_type": "stream",
     "text": [
      "The total number of columns is: 1484734 \n",
      "The total number of rows is: 14\n"
     ]
    }
   ],
   "source": [
    "print('The total number of columns is:', df.count(), '\\nThe total number of rows is:', len(df.columns))"
   ]
  },
  {
   "cell_type": "markdown",
   "metadata": {},
   "source": [
    "Similar to in pandas, the describe method can be used to get basic numerical summaries of the data. The show() method is needed to evaluate the code and show it in the notebook."
   ]
  },
  {
   "cell_type": "code",
   "execution_count": 6,
   "metadata": {},
   "outputs": [
    {
     "name": "stdout",
     "output_type": "stream",
     "text": [
      "+-------+--------------+--------------------+------------------+------------------+--------------------+--------+------------------+------------------+--------------------+--------------------+-------------------+------------------+--------------------+--------------------+\n",
      "|summary|Quarter Ending|          Department|            UnitNo|     Vendor Number|              Vendor|    City|             State|DeptID Description|              DeptID|              Amount|            Account|            AcctNo|    Fund Description|                Fund|\n",
      "+-------+--------------+--------------------+------------------+------------------+--------------------+--------+------------------+------------------+--------------------+--------------------+-------------------+------------------+--------------------+--------------------+\n",
      "|  count|       1484734|             1484734|           1484734|           1484734|             1484734|  742411|           1484686|           1484197|             1484734|             1484734|            1484734|           1484734|             1484732|             1484733|\n",
      "|   mean|          null|                null|4055.2432354886464|101513.27828033261|                null|     0.0|2.2388059701492535|              null|4.0563299528571525E9|  195691.78465843684|7.177366097966365E8| 532239.5738273305|  517532.55924170616|  25816.550023812364|\n",
      "| stddev|          null|                null| 2321.533688620958| 118133.2225931531|                null|     0.0|12.859484829021829|              null| 2.321553861897507E9|1.4713605127641063E7| 5.64268575671878E8|30379.608056930345|   4509.844363278799|   19200.86011688401|\n",
      "|    min|    03/31/2010|AOT Proprietary F...|             01100|        0000000002|\"Jewett,Martin A ...|       0|                 0|         \"\"\"Admin.|              CCV\"\"\"|               -0.01|            -294.00|           -294.00|              507200|               10000|\n",
      "|    max|    12/31/2017|  Women's Commission|             09150|            SINGLE|           xAd, Inc.|w Berlin|                ZZ|     Youth at Risk|                 Seg|                Din\"|  Youth Development|       Water/Sewer|Youth Substance A...|Facilities Operat...|\n",
      "+-------+--------------+--------------------+------------------+------------------+--------------------+--------+------------------+------------------+--------------------+--------------------+-------------------+------------------+--------------------+--------------------+\n",
      "\n"
     ]
    }
   ],
   "source": [
    "df.describe().show()"
   ]
  },
  {
   "cell_type": "markdown",
   "metadata": {},
   "source": [
    "The .head() method is also similar to it's pandas equivelent.  "
   ]
  },
  {
   "cell_type": "code",
   "execution_count": 40,
   "metadata": {},
   "outputs": [
    {
     "data": {
      "text/plain": [
       "Row(Quarter Ending='09/30/2009', Department='Environmental Conservation', UnitNo='06140', Vendor Number='0000276016', Vendor='1st Run Computer Services Inc', City=None, State='NY', DeptID Description='WQD - Waterbury', DeptID='6140040206', Amount='930.00', Account='Rep&Maint-Info Tech Hardware', AcctNo='513000', Fund Description='Environmental Permit Fund', Fund='21295')"
      ]
     },
     "execution_count": 40,
     "metadata": {},
     "output_type": "execute_result"
    }
   ],
   "source": [
    "df.head()"
   ]
  },
  {
   "cell_type": "markdown",
   "metadata": {},
   "source": [
    "The .show() method is actually more similar to the pandas head method but I do not like the output as much as the head method."
   ]
  },
  {
   "cell_type": "code",
   "execution_count": 41,
   "metadata": {},
   "outputs": [
    {
     "name": "stdout",
     "output_type": "stream",
     "text": [
      "+--------------+--------------------+------+-------------+--------------------+----+-----+--------------------+----------+------+--------------------+------+--------------------+-----+\n",
      "|Quarter Ending|          Department|UnitNo|Vendor Number|              Vendor|City|State|  DeptID Description|    DeptID|Amount|             Account|AcctNo|    Fund Description| Fund|\n",
      "+--------------+--------------------+------+-------------+--------------------+----+-----+--------------------+----------+------+--------------------+------+--------------------+-----+\n",
      "|    09/30/2009|Environmental Con...| 06140|   0000276016|1st Run Computer ...|null|   NY|     WQD - Waterbury|6140040206|930.00|Rep&Maint-Info Te...|513000|Environmental Per...|21295|\n",
      "|    09/30/2009|Environmental Con...| 06140|   0000276016|1st Run Computer ...|null|   NY|Water Supply Divi...|6140040406|930.00|Rep&Maint-Info Te...|513000|Environmental Per...|21295|\n",
      "|    09/30/2009|Vermont Veterans'...| 03300|   0000284121| 210 Innovations LLC|null|   CT|         MAINTENANCE|3300010300| 24.00|Freight & Express...|517300|    Vermont Medicaid|21782|\n",
      "|    09/30/2009|Vermont Veterans'...| 03300|   0000284121| 210 Innovations LLC|null|   CT|         MAINTENANCE|3300010300|420.00|Building Maintena...|520200|    Vermont Medicaid|21782|\n",
      "|    09/30/2009|         Corrections| 03480|   0000207719|21st Century Cell...|null|   PA|     Brattleboro P&P|3480004630|270.80|Telecom-Wireless ...|516659|        General Fund|10000|\n",
      "+--------------+--------------------+------+-------------+--------------------+----+-----+--------------------+----------+------+--------------------+------+--------------------+-----+\n",
      "only showing top 5 rows\n",
      "\n"
     ]
    }
   ],
   "source": [
    "df.show(5)"
   ]
  },
  {
   "cell_type": "markdown",
   "metadata": {},
   "source": [
    "I can use the sc.version method to print the spark version to the console or notebook."
   ]
  },
  {
   "cell_type": "code",
   "execution_count": 12,
   "metadata": {},
   "outputs": [
    {
     "name": "stdout",
     "output_type": "stream",
     "text": [
      "the spark version is: 2.4.0\n"
     ]
    }
   ],
   "source": [
    "# the .version attribute prints the spark version\n",
    "print(\"the spark version is: %s\" % spark.version)"
   ]
  },
  {
   "cell_type": "markdown",
   "metadata": {},
   "source": [
    "### Data Munging "
   ]
  },
  {
   "cell_type": "markdown",
   "metadata": {},
   "source": [
    "Data muning with pyspark is really easy, especially if you already know SQL.  Spark dataframes can be queried via the pythonic pyspark library or with spark SQL.  I will demonstrate some simple operations with both. "
   ]
  },
  {
   "cell_type": "markdown",
   "metadata": {},
   "source": [
    "I'll start by just selecting a few columns from df using SQL.  This will require registering it as a temporary table and giving it a name."
   ]
  },
  {
   "cell_type": "code",
   "execution_count": 53,
   "metadata": {},
   "outputs": [
    {
     "name": "stdout",
     "output_type": "stream",
     "text": [
      "+----------+--------------------+------+-----+\n",
      "|      Date|          Department|Amount|State|\n",
      "+----------+--------------------+------+-----+\n",
      "|09/30/2009|Environmental Con...|930.00|   NY|\n",
      "|09/30/2009|Environmental Con...|930.00|   NY|\n",
      "|09/30/2009|Vermont Veterans'...| 24.00|   CT|\n",
      "|09/30/2009|Vermont Veterans'...|420.00|   CT|\n",
      "|09/30/2009|         Corrections|270.80|   PA|\n",
      "|09/30/2009|         Corrections| 35.00|   PA|\n",
      "|09/30/2009|       Public Safety|971.40|   PA|\n",
      "|09/30/2009|Agriculture, Food...| 60.59|   TX|\n",
      "|09/30/2009|Agriculture, Food...|541.62|   TX|\n",
      "|09/30/2009|              Health|283.98|   PA|\n",
      "+----------+--------------------+------+-----+\n",
      "\n"
     ]
    }
   ],
   "source": [
    "# I will start by creating a temprary table query with SQL\n",
    "df.createOrReplaceTempView('VermontVendor')\n",
    "spark.sql(\n",
    "'''\n",
    "SELECT `Quarter Ending` as Date, Department, Amount, State FROM VermontVendor\n",
    "LIMIT 10\n",
    "'''\n",
    ").show()"
   ]
  },
  {
   "cell_type": "markdown",
   "metadata": {},
   "source": [
    "I can do a similar opertaion with the more python pyspark sythanx. I personally prefer the SQL syntax for most operations. It is transferable across programming langauges and databases.  It also makes it eaier to do things like give columns alias names. Note the difference in the column name in this table."
   ]
  },
  {
   "cell_type": "code",
   "execution_count": 48,
   "metadata": {},
   "outputs": [
    {
     "name": "stdout",
     "output_type": "stream",
     "text": [
      "+--------------+--------------------+------+-----+\n",
      "|Quarter Ending|          Department|Amount|State|\n",
      "+--------------+--------------------+------+-----+\n",
      "|    09/30/2009|Environmental Con...|930.00|   NY|\n",
      "|    09/30/2009|Environmental Con...|930.00|   NY|\n",
      "|    09/30/2009|Vermont Veterans'...| 24.00|   CT|\n",
      "|    09/30/2009|Vermont Veterans'...|420.00|   CT|\n",
      "|    09/30/2009|         Corrections|270.80|   PA|\n",
      "|    09/30/2009|         Corrections| 35.00|   PA|\n",
      "|    09/30/2009|       Public Safety|971.40|   PA|\n",
      "|    09/30/2009|Agriculture, Food...| 60.59|   TX|\n",
      "|    09/30/2009|Agriculture, Food...|541.62|   TX|\n",
      "|    09/30/2009|              Health|283.98|   PA|\n",
      "+--------------+--------------------+------+-----+\n",
      "only showing top 10 rows\n",
      "\n"
     ]
    }
   ],
   "source": [
    "df.select('Quarter Ending', 'Department', 'Amount', 'State').show(10)"
   ]
  },
  {
   "cell_type": "markdown",
   "metadata": {},
   "source": [
    "I can filter using a SQL where clause, which is roughly equivlelent to the filter method in pyspark. (the main difference being how WHERE/HAVING works in SQL)"
   ]
  },
  {
   "cell_type": "code",
   "execution_count": 54,
   "metadata": {},
   "outputs": [
    {
     "name": "stdout",
     "output_type": "stream",
     "text": [
      "+----------+----------+-------+-----+\n",
      "|      Date|Department| Amount|State|\n",
      "+----------+----------+-------+-----+\n",
      "|09/30/2009| Education|9423.36|   VT|\n",
      "|09/30/2009| Education| 110.03|   IL|\n",
      "|09/30/2009| Education| 332.58|   IL|\n",
      "|09/30/2009| Education| 145.86|   IL|\n",
      "|09/30/2009| Education|  60.08|   IL|\n",
      "|09/30/2009| Education| 284.83|   IL|\n",
      "|09/30/2009| Education| 377.15|   IL|\n",
      "|09/30/2009| Education| 114.74|   IL|\n",
      "|09/30/2009| Education|  74.46|   IL|\n",
      "|09/30/2009| Education| 129.72|   IL|\n",
      "+----------+----------+-------+-----+\n",
      "\n"
     ]
    }
   ],
   "source": [
    "spark.sql(\n",
    "'''\n",
    "\n",
    "SELECT `Quarter Ending` as Date, Department, Amount, State FROM VermontVendor \n",
    "WHERE Department = 'Education'\n",
    "LIMIT 10\n",
    "\n",
    "'''\n",
    ").show()"
   ]
  },
  {
   "cell_type": "code",
   "execution_count": 56,
   "metadata": {},
   "outputs": [
    {
     "name": "stdout",
     "output_type": "stream",
     "text": [
      "+--------------+----------+-------+-----+\n",
      "|Quarter Ending|Department| Amount|State|\n",
      "+--------------+----------+-------+-----+\n",
      "|    09/30/2009| Education|9423.36|   VT|\n",
      "|    09/30/2009| Education| 110.03|   IL|\n",
      "|    09/30/2009| Education| 332.58|   IL|\n",
      "|    09/30/2009| Education| 145.86|   IL|\n",
      "|    09/30/2009| Education|  60.08|   IL|\n",
      "|    09/30/2009| Education| 284.83|   IL|\n",
      "|    09/30/2009| Education| 377.15|   IL|\n",
      "|    09/30/2009| Education| 114.74|   IL|\n",
      "|    09/30/2009| Education|  74.46|   IL|\n",
      "|    09/30/2009| Education| 129.72|   IL|\n",
      "+--------------+----------+-------+-----+\n",
      "only showing top 10 rows\n",
      "\n"
     ]
    }
   ],
   "source": [
    "df.select('Quarter Ending', 'Department', 'Amount', 'State').filter(df['Department'] == 'Education').show(10)"
   ]
  },
  {
   "cell_type": "markdown",
   "metadata": {},
   "source": [
    "### Plotting\n"
   ]
  },
  {
   "cell_type": "markdown",
   "metadata": {},
   "source": [
    "Unfortunatly we cannot plot spark dataframes. But, we can do computations with spark and then pass the results to a pandas dataframe to plot using the toPandas() method."
   ]
  },
  {
   "cell_type": "code",
   "execution_count": 63,
   "metadata": {},
   "outputs": [],
   "source": [
    "plot_df = spark.sql(\n",
    "'''\n",
    "\n",
    "SELECT Department, SUM(Amount) as Total FROM VermontVendor \n",
    "GROUP BY Department\n",
    "ORDER BY Total DESC\n",
    "LIMIT 10\n",
    "\n",
    "'''\n",
    ").toPandas()"
   ]
  },
  {
   "cell_type": "code",
   "execution_count": 79,
   "metadata": {},
   "outputs": [
    {
     "data": {
      "text/plain": [
       "<matplotlib.axes._subplots.AxesSubplot at 0x7fd5b6d9f780>"
      ]
     },
     "execution_count": 79,
     "metadata": {},
     "output_type": "execute_result"
    },
    {
     "data": {
      "image/png": "[encoded data removed]",
      "text/plain": [
       "<Figure size 720x432 with 1 Axes>"
      ]
     },
     "metadata": {
      "needs_background": "light"
     },
     "output_type": "display_data"
    }
   ],
   "source": [
    "fig,ax = plt.subplots(1,1,figsize=(10,6))\n",
    "plot_df.plot(x = 'Department', y = 'Total', kind = 'barh', color = 'C0', ax = ax)"
   ]
  },
  {
   "cell_type": "code",
   "execution_count": 78,
   "metadata": {},
   "outputs": [
    {
     "data": {
      "image/png": "[encoded data removed]",
      "text/plain": [
       "<Figure size 720x432 with 1 Axes>"
      ]
     },
     "metadata": {
      "needs_background": "light"
     },
     "output_type": "display_data"
    }
   ],
   "source": [
    "import numpy as np\n",
    "import seaborn as sns\n",
    "plot_df2 = spark.sql(\n",
    "'''\n",
    "\n",
    "SELECT Department, SUM(Amount) as Total FROM VermontVendor \n",
    "GROUP BY Department\n",
    "\n",
    "\n",
    "'''\n",
    ").toPandas()\n",
    "plt.figure(figsize = (10,6))\n",
    "sns.distplot(np.log(plot_df2['Total']))\n",
    "plt.title('Histogram of Log Totals for all Departments in dataset')\n",
    "plt.show()\n"
   ]
  }
 ],
 "metadata": {
  "kernelspec": {
   "display_name": "Python 3",
   "language": "python",
   "name": "python3"
  },
  "language_info": {
   "codemirror_mode": {
    "name": "ipython",
    "version": 3
   },
   "file_extension": ".py",
   "mimetype": "text/x-python",
   "name": "python",
   "nbconvert_exporter": "python",
   "pygments_lexer": "ipython3",
   "version": "3.6.7"
  }
 },
 "nbformat": 4,
 "nbformat_minor": 2
}
